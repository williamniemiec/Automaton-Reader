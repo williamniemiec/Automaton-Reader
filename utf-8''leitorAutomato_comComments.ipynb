{
  "cells": [
    {
      "metadata": {},
      "cell_type": "markdown",
      "source": "TERMOS RESERVADOS - NENHUM ESTADO PODE CONTER OS SEGUINTES SÍMBOLOS:\n\n-> &\n-> _"
    },
    {
      "metadata": {
        "trusted": true
      },
      "cell_type": "code",
      "source": "#Imports\nimport re\nimport pprint",
      "execution_count": 1,
      "outputs": []
    },
    {
      "metadata": {
        "trusted": true
      },
      "cell_type": "code",
      "source": "def txtToAutomato(filename):\n        file = open(filename, 'r')\n        content = file.readlines()\n        file.close()\n        \n        af = Automato()\n        \n        #contrucao da matriz a armazena funcao programa\n        i = len(content) - 2\n        af.fPrograma = [[0 for x in range(3)] for y in range(i)]\n        \n        #content[0]\n        tmp = re.split(\"=\", content[0])\n        nome = tmp[0] #pega nome do automato\n        defAutomato = re.findall('({[A-Za-z0-9,]+})',tmp[1])\n\n        #remove colchetes\n        af.estados = re.findall('[A-Za-z0-9]+', defAutomato[0]) \n        af.alfabeto = re.findall('[A-Za-z0-9]+', defAutomato[1])\n        af.estadosFinais = re.findall('[A-Za-z0-9]+', defAutomato[2])\n            \n        tmp2 = re.findall('(},[A-Za-z0-9]+,{)',tmp[1])\n        af.estadoInicial = re.findall('([A-Za-z0-9]+)',tmp2[0])\n        af.estadoInicial = af.estadoInicial[0]\n        \n        i = 0\n        for c in range(2, len(content)): #comeca em 2 pq a linha 1 é 'prog'\n            tmp = re.split('=', content[c])\n            tmp2 = re.findall('([A-Za-z0-9]{1,})', tmp[0]) #pega (q,s)\n            \n            af.fPrograma[i][0] = tmp2[0]     #pega estado lido\n            af.fPrograma[i][1] = tmp2[1]     #pega simbolo lido\n            tmp2 = re.findall('[^\\\\n]+', tmp[1])      #pega prox estado (removendo \\n)\n            af.fPrograma[i][2] = tmp2[0]\n            \n            i += 1\n        \n        return af\n\ndef csvToList(filename):\n    file = open(filename, 'r')\n    content = file.readLines()\n    file.close()\n    \n    wordList = re.split(',', content[0])\n    \n    return wordList\n\ndef removeDuplicates(duplicate): \n    final_list = [] \n    for num in duplicate: \n        if num not in final_list: \n            final_list.append(num) \n    return final_list \n\ndef stringMaiorTamanho(lista):\n    indexMaior = 0\n    tamMaior = 0\n    \n    for i in range(len(lista)):\n        if len(lista[i]) > tamMaior:\n            indexMaior = i\n            tamMaior = len(lista[i])\n    return lista[indexMaior]\n\ndef listaMaiorTamanho(lista):\n    indexMaior = 0\n    tamMaior = 0\n    \n    for i in range(len(lista)):\n        if len(lista[i]) > tamMaior:\n            indexMaior = i\n            tamMaior = len(lista[i])\n    return lista[indexMaior]\n\n#retorna lista de maior tamanho sem elem q ja foram visitados (se tds listas tiverem elemento visitado, retorna a primeira)\ndef listaMaiorTamanho_NãoRepetido(lista, visitados):\n    if not lista:\n        return None\n    \n    indexMaior = 0\n    tamMaior = 0\n    \n    for i in range(len(lista)):\n        igual = False\n        \n        if len(lista[i]) > tamMaior:\n            indexMaior = i\n            tamMaior = len(lista[i])\n        \n        elif len(lista[i]) == tamMaior:\n            for item in lista[i]:\n                if visitados.get(item) != None:\n                    igual = True\n                    break\n                    \n            if not igual:\n                indexMaior = i\n                tamMaior = len(lista[i])\n    return lista[indexMaior]\n    ",
      "execution_count": 2,
      "outputs": []
    },
    {
      "metadata": {
        "trusted": true
      },
      "cell_type": "code",
      "source": "#OBS: & Sera considerado simbolo que representa palavra vazia / indefinição\n\nclass Automato:\n    def __init__(self):\n        self.alfabeto = []\n        self.estados = []\n        self.estadoInicial = ''\n        self.estadosFinais = []\n        self.fPrograma = [] # matriz com colunas sendo estado, simbolo e prox estado\n    \n    \n    def afnToAfd(self):\n        afd = Automato()\n        afd.alfabeto = self.alfabeto\n        afd.estadoInicial = self.estadoInicial\n        afd.fPrograma = [['', '', '']]\n        mudou = False\n        actualStates = [self.estadoInicial] #Armazena estados atuais que estão sendo analisados\n        indice = 0 #Indice atual da fPrograma\n        visitados = {}\n        estadosAlterados = {}\n        \n        #-----------------------------------------------\n        #Garante as 4 primeiras execuções e para qdo a função programa dos simbolos anteriores não alterar\n        while (indice <= 2*len(self.alfabeto) or mudou) and actualStates != None:\n            aux = []\n            \n            #Percorre todos os simbolos do alfabeto\n            for symbol in self.alfabeto:\n                #print('symbol: ',symbol)\n                #print('actualStates: ', actualStates)\n                aux2 = []\n                #vazial = False\n                \n                # Percorre tds estados atuais (no inicio é só o q0)\n                #pprint.pprint(actualStates)\n                for state in actualStates:\n                    #print('state: ',state)\n                    \n                    #pprint.pprint(actualStates)\n                    state_fPrograma = self.funcaoPrograma(state,symbol)\n                    #print(state_fPrograma)\n                    #print('fp ',state_fPrograma)\n                    \n                    #Se for palavra vazia, ignora ela\n                    if state_fPrograma[0] == '&':\n                        #state_fPrograma = ''\n                        continue\n                    \n                    #aux.append(state_fPrograma) #pega tds estados\n                    for i in range(len(state_fPrograma)):\n                        if estadosAlterados.get(state_fPrograma[i]) != None:\n                            state_fPrograma[i] = estadosAlterados[state_fPrograma[i]]\n                    aux2.extend(state_fPrograma)\n                    #print('state: ',state)\n                    #print('aux2 ',aux2)\n                    \n                    \n                               \n                #TESTE - É NECESSARIO?!\n                actualStates.sort()\n                aux2.sort()\n                #FIMTESTE\n                \n                #print(\"a2: \",aux2)\n                #print(\"removendo duplicados aux2\")\n                aux2 = removeDuplicates(aux2)\n                #print('aux2 ',aux2)\n                \n                jaPercorrido = False\n                for item in aux2:\n                    if visitados.get(item) != None: #só pega estados que nao foram percorridos\n                        jaPercorrido = True\n                        break\n                    #elif estadosAlterados.get(item):\n                        #aux2.replace(item, estadosAlterados[item])\n                        \n                #for i in range(len(aux2))\n                \n                if not jaPercorrido:\n                    aux.append(aux2)\n                    \n                \n                #print(\"a1: \",aux)\n                #aux2 = stringMaiorTamanho(aux2)\n                \n                # Atualiza o estado atual na fProg como sendo uma string q é união dos estados gerados na funcao programa\n                #for i in range(0, len(actualStates)):\n                #    afd.fPrograma[indice][0] += actualStates[i]\n                if aux2:\n                    #print('as ANTES FOR: ', actualStates)\n                    for s in actualStates:\n                        afd.fPrograma[indice][0] += s\n                        #print('s ', s)\n                        #print('afd.fPrograma[indice][0] ', afd.fPrograma[indice][0])\n                        #print(actualStates[i])\n\n                    afd.fPrograma[indice][1] = symbol\n\n                    for s in aux2:\n                        afd.fPrograma[indice][2] += s\n\n                    #Atualiza estados (se necessario)\n                    if afd.estados.count(afd.fPrograma[indice][0]) == 0:\n                        afd.estados.append(afd.fPrograma[indice][0])\n\n                    if afd.estados.count(afd.fPrograma[indice][2]) == 0:\n                        afd.estados.append(afd.fPrograma[indice][2])\n\n                    # Determina se é estado final (se sim, anexa nos estados finais)\n                    for s in actualStates:\n                        if self.isFinal(s) and afd.estadosFinais.count(afd.fPrograma[indice][0]) == 0:\n                            afd.estadosFinais.append(afd.fPrograma[indice][0])\n                            break #garante que só anexa 1 vez o estado\n   \n                # Prepara a função programa para a próxima iteração\n                afd.fPrograma.append(['', '', ''])\n                indice += 1 #incrementa o indice (pq vai para proximo simbolo)\n            \n            #verificou todos os simbolos para cada estado nos actualStates\n            #elimina append fPrograma\n            indice -= 1\n            afd.fPrograma.pop()\n            \n            \n            #afd.estados.append(afd.fPrograma[indice-1][0])\n            \n            #Atualiza actual states          \n            # actualStates = conj uniao dos estados gerados na funcao programa anterior\n            #print(\"aux \",aux)\n            #actual states = conj uniao dos estados gerados na funcao programa anterior NAO VISITADO!\n            #visitados[afd.fPrograma[indice-1][0]] = True #afd.fPrograma[indice-1][0] = actualStates concatenado\n            visitados[afd.fPrograma[indice][0]] = True #afd.fPrograma[indice-1][0] = actualStates concatenado\n            \n            for s in actualStates:\n                #estadosAlterados[s] = afd.fPrograma[indice-1][0]\n                estadosAlterados[s] = afd.fPrograma[indice][0]\n            \n            actualStates = listaMaiorTamanho_NãoRepetido(aux, visitados)\n            #if actualStates == None:\n            #    break\n            \n            #if visitado.get(actualStates[0]) != None:\n            #print(\"as: \", actualStates)\n            \n            # Verifica se mudou estados (condição de parada do loop)\n            if indice > 2*len(self.alfabeto):\n                mudou = False\n                tamAlfabeto = len(self.alfabeto)\n                \n                for j in range(0, tamAlfabeto):\n                    if afd.fPrograma[indice-j][2] != afd.fPrograma[indice-j-tamAlfabeto][2]: # indice - 1 pq indice = fPrograma da prox iteração (vazia no momento)                       \n                        mudou = True\n                        break\n                \n                if mudou == False: #se nao mudou, elimina da fPrograma ultimos resultados (ja q são iguais aos anteriores)\n                    for j in range(0, len(self.alfabeto)):\n                        afd.fPrograma.pop(indice-j)\n                        #afd.fPrograma.pop()\n                    \n                else: #se mudou, prepara proxima iteração\n                    afd.fPrograma.append(['', '', ''])\n                    indice += 1\n            else:\n                afd.fPrograma.append(['', '', ''])\n                indice += 1\n            \n        #-----------------------------------------------\n        #elimina fPrograma vazia no final (se houver)\n        if afd.fPrograma[len(afd.fPrograma)-1][0] == '' or afd.fPrograma[len(afd.fPrograma)-1][1] == '' or afd.fPrograma[len(afd.fPrograma)-1][2] == '':\n            afd.fPrograma.pop()\n        \n        #fPrograma pronta\n        # Retira fPrograma vazia no final\n        #afd.fPrograma.pop()\n        #print(\"est inicial\")\n        #pprint.pprint(afd.estadoInicial)\n        #print(\"est finais\")\n        #pprint.pprint(afd.estadosFinais)\n        #print(\"fP\")\n        #pprint.pprint(afd.fPrograma)\n        \n        afd.estadosFinais = removeDuplicates(afd.estadosFinais)\n        afd.estadosFinais.sort()\n        \n        afd.estados = removeDuplicates(afd.estados)\n        afd.estados.sort()\n        \n        \n        # Renomeação de estados\n        index = 0\n        for state in afd.estados:\n            \n            newState = 'Q' + str(index)\n            afd.estados[index] = newState\n            index += 1\n            \n            # Renomeia na funcao programa\n            for i in range(len(afd.fPrograma)):\n                if afd.fPrograma[i][0] == state:\n                    afd.fPrograma[i][0] = newState\n                if afd.fPrograma[i][2] == state:\n                    afd.fPrograma[i][2] = newState\n            \n            # Renomeia estados finais\n            for i in range(len(afd.estadosFinais)):\n                if state == afd.estadosFinais[i]:\n                    afd.estadosFinais[i] = newState\n            \n            # Atualiza estado inicial\n            if state == afd.estadoInicial:\n                afd.estadoInicial = newState\n        \n        return afd           \n    \n    \n    #FPT : Função Programa Total\n    def convertAfdToFpt(self):\n        d = '&&' #representa o 'd' do ppt da aula (não da para um automato ter esse simbolo no input do arquivo)\n        #usar dois &&\n        \n        naoTotal = False\n        i = 0\n        fProgramaAux = []\n        \n        for state in self.estados:\n            for symbol in self.alfabeto:\n                fp = self.funcaoPrograma(state, symbol)\n                if fp[0] == '&':\n                    print(state, \" \", symbol, \" = &\")\n                    naoTotal = True\n                    self.fPrograma.insert(i, [state, symbol, d])\n                i += 1\n    \n        self.fPrograma.sort()\n        \n        if naoTotal:\n            self.estados.append(d)\n            for symbol in self.alfabeto:\n                self.fPrograma.append([d, symbol, d])\n        \n        \n         \n        \n    #funcao q retorna lista de estados que é possivel ir diretamente a partir de um (se nao achar, retorna None)\n    def estadosAtingiveis(self, estado):\n        estAtingiveis = []\n        \n        for i in range(len(self.fPrograma)):\n            if self.fPrograma[i][0] == estado:\n                estAtingiveis.append(self.fPrograma[i][2])\n                \n        if not estAtingiveis:\n            estAtingiveis = None\n        else:\n            estAtingiveis = removeDuplicates(estAtingiveis)\n            \n        return estAtingiveis\n    \n    \n    #retorna todos os estados alcançaveis a partir de um\n    def estadosAlcancaveis(self, estado):\n        estAlcancaveis = []\n        pilha = []\n        visitados = {}\n        pilha.append(estado)\n        \n        while pilha:\n            est = pilha.pop()\n            \n            for i in range(len(self.fPrograma)):\n                if self.fPrograma[i][0] == est and visitados.get(est) == None:\n                    estAlcancaveis.append(self.fPrograma[i][2])\n                    pilha.append(self.fPrograma[i][2])\n            visitados[est] = True\n                \n        if not estAlcancaveis:\n            estAlcancaveis = None\n        else:\n            estAlcancaveis = removeDuplicates(estAlcancaveis)\n            estAlcancaveis.sort()\n            \n        return estAlcancaveis\n        \n        \n    #Remove todos os estados inalcancaveis a partir do estado inicial\n    def removeEstadosInalcancaveis(self):\n        #converter para dicionacio\n        estAting = self.estadosAlcancaveis(self.estadoInicial)\n        estAting.append(self.estadoInicial)\n        \n        #tam = len(self.fPrograma)\n        \n        i = 0\n        while i < len(self.fPrograma):\n            # Se o i-esimo estado não é atingivel a partir do est inicial, remove ele e todas as suas ocorrências\n            # da função programa\n            if estAting.count(self.fPrograma[i][0]) == 0:\n                self.fPrograma.pop(i)\n                i -= 1\n                #tam -= 1\n            \n            if estAting.count(self.fPrograma[i][2]) == 0:\n                self.fPrograma.pop(i)\n                i -= 1\n                #tam -= 1\n            i += 1\n        \n        #remove estados inatingiveis a partir do est inicial da lista de estados\n        i = 0\n        while i < len(self.estados):\n        #for i in range(len(self.estados)):\n            if estAting.count(self.estados[i]) == 0:\n                self.estados.pop(i)\n                i -= 1\n            i += 1\n\n            \n    def funcaoPrograma(self, estado, simbolo):\n        i = 0\n        achou = False\n        retorno = []\n        \n        while (not achou) and (i < len(self.fPrograma)):\n            if (self.fPrograma[i][0] == estado) and (self.fPrograma[i][1] == simbolo):\n                achou = True\n                \n                #Pega tds estados q tem msm estado e simbolo (afn)\n                while (i < len(self.fPrograma)) and (self.fPrograma[i][0] == estado) and (self.fPrograma[i][1] == simbolo):\n                    retorno.append(self.fPrograma[i][2])\n                    i += 1 \n            i += 1\n        \n        if not achou:\n            retorno.append('&')\n        \n        return retorno\n    \n    \n    def isFinal(self, estado):\n        i = 0\n        ret = True\n        \n        while i < len(self.estadosFinais):\n            if self.estadosFinais[i] == estado:\n                return True\n            i += 1\n        return False\n    \n    \n    # Usando Mmin, avaliar uma lista de palavras, indicando quais são reconhecidas\n    # por Mmin e quais são rejeitadas\n    # obs: é essencial que no arquivo contendo o automato a função programa esteja ordenada\n    # em ordem alfabetica pelo estado atual\n    def verificaPalavras(self, wordList):\n        if wordList: #se a lista de palavras nao esta vazia\n            i = 1\n            tam = len(self.fPrograma)\n            resultado = {'aceitas':[], 'rejeitadas':[]}\n            \n            for word in wordList:\n                aceita = False\n                i = 1\n                estadoAtual = []\n                estadoAtual.append(self.estadoInicial)\n                \n                for letter in word:\n                    estadoAtual.extend(self.funcaoPrograma(estadoAtual[0], letter))\n                    estadoAtual.pop(0)\n                    \n                    #evita loop infinito em afn\n                    if len(estadoAtual) > 1:\n                        if estadoAtual[1] == estadoAtual[0]:\n                            estadoAtual.pop(0)\n                    \n                    for estado in estadoAtual:\n                        #print(\"Estado: \", estado)\n                        if self.isFinal(estado) and i == len(word): #se for estado final e for ultima letra da palavra, aceita\n                            resultado['aceitas'].append(word)\n                            aceita = True\n                    i += 1\n                \n                if aceita == False:\n                    resultado['rejeitadas'].append(word)\n                    \n        return resultado\n\n            \n            \n    #Dado um AFD M, gerar a GR equivalente (sera mandado arquivo ja aberto e dv ser fechado externamente a função (MODO APPEND!))\n    def geraGR(self, fileOutput):\n        fProducao = [[]] #contem simbolo variavel e prox simbolo\n        \n        if self.estadoInicial != '':\n            tam = len(self.fPrograma) + len(self.estadosFinais) - 1 \n            fProducao = [[0 for x in range(2)] for y in range(tam)]  #fProducao[tam][2]\n            \n            fProducao[0][0] = 'S'\n            fProducao[0][1] = self.estadoInicial\n            \n            # Para tds estados finais, gera GR produzindo palavra vazia\n            for i in range(len(self.estadosFinais)):\n                fProducao[i+1][0] = self.estadosFinais[i]\n                fProducao[i+1][1] = '&'\n            \n            # Percorre td função programa e converte em função de produção\n            for j in range(len(self.fPrograma)):\n                fProducao[i][0] = self.fPrograma[j][0]\n                fProducao[i][1] = self.fPrograma[j][1] + self.fPrograma[j][2]\n                i += 1\n            \n            #escreve definição da gramatica\n            #fileOutput.write(\"G = ( {%s}, {%s}, S, P)\\n\" % (self.estados[i] for i in range(len(self.estados))),\n            #                                               (fProducao[i][1] for i in range(len(self.estadosFinais) - 1, len(fProducao))))\n            \n            # G = ( {%s}, {%s}, S, P)\\n\n            print(\"G = ( {\", end='', file=fileOutput)\n            \n            for i in range(len(self.estados)):\n                print(self.estados[i], end='', file=fileOutput)\n                \n                if(i+1 < (len(self.estados))):\n                    print(\", \", end='', file=fileOutput)\n            \n            print(\"} , {\", end='', file=fileOutput)\n            \n            for i in range(len(self.estadosFinais) - 1, len(fProducao)):\n                print(fProducao[i][1], end='', file=fileOutput)\n                \n                if(i+1 < len(fProducao)):\n                    print(\", \", end='', file=fileOutput)\n            \n            print(\"}, S, P)\", file=fileOutput)\n            \n            print(\"P\", file=fileOutput)\n            \n            #escreve função de produção\n            for k in range(len(fProducao)):\n                fileOutput.write(\"%s -> %s\\n\" % (fProducao[k][0], fProducao[k][1]))\n         \n    def aMin(self):\n        self = self.afnToAfd()\n        self.removeEstadosInalcancaveis()\n        self.convertAfdToFpt()\n        \n        return self.automatoMinimo()\n    \n    \n    #Dado um AFN M, construir o seu equivalente autômato mínimo Mmin;\n    #Ao chamar a função, tem q ser AFD!\n    #tem q só ter estados alcançaveis via q0\n    def automatoMinimo(self):\n        #f programa: colunas = {estado atual, simbolo lido, prox estado}\n        afm = Automato()\n        pilha = []\n        firstTime = True\n        d = '&&'\n        \n        afm.estados = self.estados\n        afm.estadoInicial = self.estadoInicial\n        afm.fPrograma = self.fPrograma\n        afm.alfabeto = self.alfabeto\n        afm.estadosFinais = self.estadosFinais\n        \n        #Cria tabela de distincoes\n        larg = len(self.estados)\n        alt = larg\n        tabDistincoes = [['-' for x in range(larg)] for y in range(alt)] #+1 para ser inclusivo no intervalo\n        \n        listaDependencias = {} #fazer com dicionario\n        \n        # Preenche matriz coluna 0 com estados\n        for l in range(alt-1):\n            tabDistincoes[l][0] = self.estados[l+1]\n        l += 1 #armazena indice da ultima linha da tabela\n\n        # Preenche ultima linha matriz com estados\n        for a in range(1, larg):\n            tabDistincoes[l][a] = self.estados[a-1]\n        #tabDistincoes[l][a+1] = self.estados[a+1]\n        \n        \n        # Marca pares estados fianis com não finais com true e o resto com false\n        for i in range(0, l):\n            for j in range(1, i+2): #j vai de 1 até i+1 (incluindo)\n                if (self.isFinal(tabDistincoes[i][0])) and (not self.isFinal(tabDistincoes[l][j])):\n                    tabDistincoes[i][j] = True\n                elif (self.isFinal(tabDistincoes[l][j])) and (not self.isFinal(tabDistincoes[i][0])):\n                    tabDistincoes[i][j] = True\n                else:\n                    tabDistincoes[i][j] = False\n        \n        \n        # Percorre pares não marcados no passo anterior\n        for i in range(0, l):\n            for j in range(1, i+2):\n                if tabDistincoes[i][j] == False:\n                    p = tabDistincoes[i][0]\n                    q = tabDistincoes[l][j]\n                    \n                    #para cada simbolo s do alfabeto, testar\n                    for letter in self.alfabeto:\n                        pR = self.funcaoPrograma(p, letter) #pResultante\n                        qR = self.funcaoPrograma(q, letter)\n                        pR = pR[0]\n                        qR = qR[0]\n                        \n                        if pR == qR:\n                            continue\n                        \n                        \n                        #buscar indice do pR\n                        ipR = 0\n                        achou = False\n                        \n                        while not achou and ipR < l:\n                            if tabDistincoes[ipR][0] == pR:\n                                achou = True\n                            else:\n                                ipR += 1\n                        if not achou:\n                            continue\n                        \n                        #buscar indice do qR\n                        iqR = 1\n                        achou = False\n                        k = 0\n                        #k += 2 para evitar buscar fora limite tabela\n                        #while not achou and iqR < k + 2 and k < l:\n                        while not achou and iqR < larg:\n                            if tabDistincoes[l][iqR] == qR:\n                                achou = True\n                            else:\n                                iqR += 1\n                                #k += 1\n                        if not achou:\n                            continue\n                            \n                        #if p == d or q == d or pR == d or qR == d:\n                        #    continue\n                        #se ipR ou iqR passarem dos limites, 'inverter' eles\n                        if tabDistincoes[ipR][iqR] == '-':\n                            tmp = ipR\n                            ipR = iqR - 2\n                            iqR = tmp + 2\n                            \n                            tmp = pR\n                            pR = qR\n                            qR = tmp\n                            \n                        \n                        #\"Se r e s não estão marcados, criar lista de dep com p e q encabeçados por r e s\"\n                        if tabDistincoes[ipR][iqR] == False: #mudar para p,q e pR, qR\n                            listaDependencias[pR+','+qR] = []\n                            listaDependencias[pR+','+qR].append([p,q,i,j]) #guarda p, q e o indice onde esta p,q\n                        \n                        #senao\n                        #     tabDistincoes[p][q] == True\n                        #     Se p,q possuem lista de dependencia, marcar tds estados dessa lista\n                        \n                        else:\n                            #if p == d or q == d or pR == d or qR == d:\n                            #    continue\n                            \n                            tabDistincoes[i][j] = True\n                            \n                            # Verifica se p,q possuem lista de dependencia, marcar tds estados dessa lista e\n                            # verifica se cada estado marcado possui uma lista de dependencia (se sim, marcar tds)\n                            # e assim recursivamente\n                            # Pilha: guarda estados q foram marcados para verificar se possuem lista de dependencia\n                            firstTime = True\n                            while pilha or firstTime:\n                                firstTime = False\n                                    \n                                if pilha:\n                                    elem = pilha.pop()\n                                    p1 = elem[0]\n                                    q1 = elem[1]\n                                else:\n                                    p1 = p\n                                    q1 = q\n                            \n                                if (listaDependencias.get(p+','+q) != None) or (listaDependencias.get(q+','+p) != None):\n                                    # Se p,q possuem lista de dependencia, marcar tds estados dessa lista\n                                    # e guardar estados marcados em uma pilha para verificar se possuem lista de dep tb\n                                    if listaDependencias.get(p1+','+q1) != None:\n                                        for listaEstados in listaDependencias[p1+','+q1]:\n                                            tabDistincoes[listaEstados[2]][listaEstados[3]] = True\n                                            pilha.append([listaEstados[0], listaEstados[1]]) #guarda estado marcado\n\n                                            listaDependencias[p1+','+q1] = None\n\n                                    if listaDependencias.get(q1+','+p1) != None:\n                                        for listaEstados in listaDependencias[q1+','+p1]:\n                                            tabDistincoes[listaEstados[2]][listaEstados[3]] = True\n                                            pilha.append([listaEstados[0], listaEstados[1]])\n\n                                        listaDependencias[q1+','+p1] = None     \n        \n        #Percorre tds estados não marcados e unifica eles\n            #concatena dois estados q1 e q2 e forma um novo 'q1q2'\n            #substitui tds transicoes q gerem q1 ou q2 por q1q2\n            #transicoes desse novo estado são iguais as do q1 ou do q2 (pegar as transições de apenas 1 para ser as do q1q2)\n            #exclui o outro estado do afd\n        estadosUnificados = []\n        #estadoU = ['EST_CONCAT', [ESTADOS UNIFICADOS]] (sempre que passar por um estado unificado, substituir pela sua concaten. (varredura fPrograma?))\n        \n        \n        for i in range(0, l):\n            for j in range(1, i+2):\n                if tabDistincoes[i][j] == False:\n                    if tabDistincoes[i][0] < tabDistincoes[l][j]:\n                        estadoU = tabDistincoes[i][0] + tabDistincoes[l][j]\n                    else:\n                        estadoU = tabDistincoes[l][j] + tabDistincoes[i][0]\n                    #estadosUnificados.append(tabDistincoes[i][0], tabDistincoes[l][j])\n                    \n                    #achou = False\n                    \n                    k = 0\n                    #while not achou and k < len(self.fPrograma):\n                    while k < len(afm.fPrograma):\n                        # atualiza estados que foram atualizados\n                        if afm.fPrograma[k][0] == tabDistincoes[i][0]:\n                            afm.fPrograma[k][0] = estadoU\n                        \n                        if afm.fPrograma[k][2] == tabDistincoes[i][0]:\n                            afm.fPrograma[k][2] = estadoU\n                                               \n                        # exclui o outro estado (pq foi unificado)\n                        if self.fPrograma[k][0] == tabDistincoes[l][j]:\n                            self.fPrograma.pop(k)\n                            k -= 1\n                            continue\n                        \n                        if self.fPrograma[k][2] == tabDistincoes[l][j]:\n                            afm.fPrograma[k][2] = estadoU\n                        \n                        k += 1\n                    \n                    k = 0\n                    \n                    while k < len(afm.estados):\n                        if afm.estados[k] == tabDistincoes[i][0]:\n                            afm.estados[k] = estadoU\n                        if afm.estados[k] == tabDistincoes[l][j]:\n                            afm.estados.pop(k)\n                            k -= 1\n                            \n                        k += 1\n                    \n                    k = 0\n                    while k < len(afm.estadosFinais):\n                        if afm.estadosFinais[k] == tabDistincoes[i][0]:\n                            afm.estadosFinais[k] = estadoU\n                        if afm.estadosFinais[k] == tabDistincoes[l][j]:\n                            afm.estadosFinais.pop(k)\n                            k -= 1\n                            \n                        k += 1\n                    \n                    if afm.estadoInicial == tabDistincoes[i][0]:\n                        afm.estadoInicial = estadoU\n                    \n                    elif afm.estadoInicial == tabDistincoes[l][j]:\n                        afm.estadoInicial = estadoU\n        \n        \n        #Exclusão de estados inuteis\n        visitado = {}\n        pilha = []\n        \n        for state in afm.estados:\n            visitado[state] = False\n        \n        pilha.append(afm.estadoInicial)\n        \n        while pilha:\n            est = pilha.pop()\n            visitado[est] = True\n            est_fp = afm.estadosAtingiveis(est)\n            #print(\"estAtingiveis: est \", est, ' - ', est_fp)\n            #pprint.pprint(afm.estados)\n            \n            if est_fp == None:\n                if not afm.isFinal(est): #se estado nao é final, achou estado inutil\n                    i = 0\n                    while i < len(afm.fPrograma):\n                        if afm.fPrograma[i][0] == est or afm.fPrograma[i][2] == est:\n                            afm.fPrograma.pop(i)\n                            i -= 1\n                        i += 1\n                    #for i in range(len(afm.fPrograma)): #remove todas as ocorrencias dele na fPrograma\n                    #    if afm.fPrograma[i][0] == est or afm.fPrograma[i][2] == est:\n                    #        afm.fPrograma.pop(i)\n                    #        i -= 1 #decrementa o i pq no for vai ser incrementado\n                     \n                    i = 0\n                    while i < len(afm.estados):\n                        if afm.estados[i] == est:\n                            afm.estados.pop(i)\n                            i -= 1\n                        i += 1\n                    #for i in range(len(afm.estados)):\n                    #    if afm.estados[i] == est:\n                    #        afm.estados.pop(i)\n                    #        i -= 1\n            else:\n                # se estado atingido nao atinge um estado final, elimina ele\n                if len(est_fp) == 1 and est_fp[0] == est and not afm.isFinal(est):\n                    i = 0\n                    while i < len(afm.fPrograma):\n                        #print(afm.fPrograma)\n                        if afm.fPrograma[i][0] == est or afm.fPrograma[i][2] == est:\n                            afm.fPrograma.pop(i)\n                            i -= 1\n                        i += 1\n                        \n                    i = 0\n                    while i < len(afm.estados):\n                        if afm.estados[i] == est:\n                            afm.estados.pop(i)\n                            i -= 1\n                        i += 1\n                else:\n                    for state in est_fp:\n                        if not visitado[state]:\n                            pilha.append(state)\n            \n            \n        #prints\n        '''for k in tabDistincoes:\n            for e in k:\n                print(e, \",\\t\", end='')\n            print(\"\\n\")\n        for m in afm.fPrograma:\n            print(m)'''\n            \n        return afm",
      "execution_count": 54,
      "outputs": []
    },
    {
      "metadata": {
        "trusted": true
      },
      "cell_type": "code",
      "source": "    # Dados dois AFD M1 e M2, decidir se ACEITA(M1) = ACEITA(M2)\n    # Gerar afm\n    # renomear tds estados para Qi\n    # comparar estados alcancaveis a partir de q0. se forem iguais, linguagem é equivalente\n    # fPrograma DEVE ESTAR ORDENADA!!!\n    def verificaEquivalencia(m1, m2):\n        minM1 = m1.aMin()\n        #minM1 = m1.automatoMinimo()\n        minM2 = m2.aMin()\n        #pprint.pprint(minM1.fPrograma)\n        #pprint.pprint(minM2.fPrograma)\n        #minM1 = m1\n        #minM2 = m2\n        \n        #verificar se cada estado do minM1 gera as mesmas transições que minM2\n        \n        if  (len(minM1.estados) != len(minM2.estados)) or (len(minM1.alfabeto) != len(minM2.alfabeto)) or (len(minM1.estadosFinais) != len(minM2.estadosFinais)):\n                return False\n        else:\n            pilha = [] #[est_antigo, novo estado]\n            index = 0\n            #minM1.fPrograma.sort()\n            #minM2.fPrograma.sort()\n            \n            #renomeia estados da função programa\n            i = 0\n            lastState = minM1.fPrograma[i][0]\n            \n            while i < len(minM1.fPrograma):\n                pilha.append([minM1.fPrograma[i][0], '_Q' + str(index)])\n                \n                if minM1.fPrograma[i][0] == lastState:\n                    lastState = minM1.fPrograma[i][0]\n                    minM1.fPrograma[i][0] = '_Q' + str(index)\n                \n                else:\n                    lastState = minM1.fPrograma[i][0]\n                    index += 1\n                    minM1.fPrograma[i][0] = '_Q' + str(index)\n                i += 1\n                \n                      \n            #renomeia estados restantes\n            while pilha:\n                tmp = pilha.pop()\n                est_ant = tmp[0]\n                est_renom = tmp[1]\n                \n                for i in range(len(minM1.fPrograma)):\n                    if minM1.fPrograma[i][2] == est_ant:\n                        minM1.fPrograma[i][2] = est_renom\n                \n                if minM1.estadoInicial == est_ant:\n                    minM1.estadoInicial = est_renom\n                        \n                        \n                \n            #faz a msm coisa para m2\n            pilha = []\n            index = 0\n            \n            #renomeia estados da função programa\n            i = 0\n            lastState = minM2.fPrograma[i][0]\n            \n            while i < len(minM2.fPrograma):\n                pilha.append([minM2.fPrograma[i][0], '_Q' + str(index)])\n                \n                if minM2.fPrograma[i][0] == lastState:\n                    lastState = minM2.fPrograma[i][0]\n                    minM2.fPrograma[i][0] = '_Q' + str(index)\n                \n                else:\n                    lastState = minM2.fPrograma[i][0]\n                    index += 1\n                    minM2.fPrograma[i][0] = '_Q' + str(index)\n                i += 1\n            \n            while pilha:\n                tmp = pilha.pop()\n                est_ant = tmp[0]\n                est_renom = tmp[1]\n                \n                for i in range(len(minM2.fPrograma)):\n                    if minM2.fPrograma[i][2] == est_ant:\n                        minM2.fPrograma[i][2] = est_renom\n                        \n                if minM2.estadoInicial == est_ant:\n                    minM2.estadoInicial = est_renom\n                        \n            #verifica se sao equivalentes\n            #pilha1 = [], pilha2 = []\n            #pilha1.append(minM1.estadoInicial), pilha2.append(minM2.estadoInicial)\n            #print('renomeado')\n            #pprint.pprint(minM1.fPrograma)\n            #pprint.pprint(minM2.fPrograma)\n            for i in range(len(minM1.fPrograma)):\n                if minM1.fPrograma[i][0] != minM2.fPrograma[i][0] or minM1.fPrograma[i][2] != minM2.fPrograma[i][2]:\n                    return False\n            \n            '''p = []\n            visitados = {}\n            p.append(minM1.estadoInicial)\n            #while pilha1 and pilha2:\n            while p:\n                #e1 = pilha1.pop()\n                #e2 = pilha2.pop()\n                e = p.pop()\n                \n                print(\"minM1.estadosAlcancaveis(%s)\" % e)\n                am1 = minM1.estadosAlcancaveis(e)\n                am2 = minM2.estadosAlcancaveis(e)\n                \n                print('am1 ', am1)\n                print('am2 ', am2)\n                \n                if len(am1) != len(am2):\n                    return False\n                else:\n                    for i in range(len(am1)):\n                        if am1[i] != am2[i]:\n                            return False\n                        else:\n                            if visitados.get(am1[i]) == None:\n                                p.append(am1[i])\n                                visitados[am1[i]] = True\n                \n            \n            #print('am1 ', am1)\n            #print('am1 ', am2)'''\n            \n        return True",
      "execution_count": 85,
      "outputs": []
    },
    {
      "metadata": {
        "trusted": true
      },
      "cell_type": "code",
      "source": "#teste equivalencia\n\n'''af = Automato()\naf.alfabeto = ['0', '1']\naf.estados = ['k', 'kk']\naf.estadoInicial = 'k'\naf.estadosFinais = ['kk']\naf.fPrograma = [['k', '0', 'k'],\n                 ['k', '1', 'kk'],\n                 ['kk', '0', 'k'],\n                 ['kk', '1', 'k'],]'''\n\naf = Automato()\naf.alfabeto = ['0', '1']\naf.estados = ['q0', 'q1']\naf.estadoInicial = 'q0'\naf.estadosFinais = ['q1']\naf.fPrograma = [['q0', '0', 'q0'],\n                 ['q0', '1', 'q1'],\n                 ['q1', '0', 'q1'],\n                 ['q1', '1', 'q0']]\n\naf2 = Automato()\naf2.alfabeto = ['0', '1']\naf2.estados = ['q0', 'q1', 'q2']\naf2.estadoInicial = 'q0'\naf2.estadosFinais = ['q2']\naf2.fPrograma = [['q0', '0', 'q0'],\n                 ['q0', '0', 'q1'],\n                 ['q0', '1', 'q2'],\n                 ['q1', '1', 'q2'],\n                 ['q2', '0', 'q2'],\n                 ['q2', '1', 'q1']]\n\n\n'''t = af.afnToAfd()\nt.removeEstadosInalcancaveis()\nt.convertAfdToFpt()\npprint.pprint(t.fPrograma)\nprint('estados, ',t.estados)\nprint('ef, ',t.estadosFinais)\nprint('ei, ', t.estadoInicial)\n\nprint('----')\n\nt2 = af2.afnToAfd()\nt2.removeEstadosInalcancaveis()\nt2.convertAfdToFpt()\npprint.pprint(t2.fPrograma)\nprint('estados, ',t2.estados)\nprint('ef, ',t2.estadosFinais)\nprint('ei, ', t2.estadoInicial)'''\n\n#verificaEquivalencia(af,af2)\n\n\n#pprint.pprint(a.fPrograma)\n#print('True') if verificaEquivalencia(af,af2) else print(\"False\")\n#k = af.automatoMinimo()\nprint('True') if verificaEquivalencia(af,af2) else print(\"False\")",
      "execution_count": 86,
      "outputs": [
        {
          "output_type": "stream",
          "text": "True\n",
          "name": "stdout"
        }
      ]
    },
    {
      "metadata": {
        "trusted": true
      },
      "cell_type": "code",
      "source": "#teste afn\n\n'''af = Automato()\naf.alfabeto = ['0', '1']\naf.estados = ['k', 'kk']\naf.estadoInicial = 'k'\naf.estadosFinais = ['kk']\naf.fPrograma = [['k', '0', 'k'],\n                 ['k', '1', 'kk'],\n                 ['kk', '0', 'k'],\n                 ['kk', '1', 'k'],]'''\n\naf = Automato()\naf.alfabeto = ['0', '1']\naf.estados = ['q0', 'q1']\naf.estadoInicial = 'q0'\naf.estadosFinais = ['q1']\naf.fPrograma = [['q0', '0', 'q0'],\n                 ['q0', '1', 'q1'],\n                 ['q1', '0', 'q0'],\n                 ['q1', '1', 'q0']]\n\naf2 = Automato()\naf2.alfabeto = ['0', '1']\naf2.estados = ['q0', 'q1', 'q2']\naf2.estadoInicial = 'q0'\naf2.estadosFinais = ['q2']\naf2.fPrograma = [['q0', '0', 'q0'],\n                 ['q0', '0', 'q1'],\n                 ['q0', '1', 'q2'],\n                 ['q1', '1', 'q2'],\n                 ['q2', '0', 'q2'],\n                 ['q2', '1', 'q1']]\n\n\n#t = af.afnToAfd()\n#t = af2.convertAfdToFpt()\n#a = af2.afnToAfd()\n#pprint.pprint(a.fPrograma)\n#print('True') if verificaEquivalencia(af,af2) else print(\"False\")\n#k = af.automatoMinimo()\nk = af2.afnToAfd()\npprint.pprint(k.fPrograma)\nprint('estados, ',k.estados)\nprint('ef, ',k.estadosFinais)\n\nprint('ei, ', k.estadoInicial)\n#k.removeEstadosInalcancaveis()\n#k.convertAfdToFpt()\n#k2 = k.automatoMinimo()\n#pprint.pprint(k.fPrograma)\n#pprint.pprint(k.estados)\n\n'''\nself = self.afnToAfd()\n        self.removeEstadosInalcancaveis()\n        self.convertAfdToFpt()'''",
      "execution_count": 45,
      "outputs": [
        {
          "output_type": "stream",
          "text": "[['Q0', '0', 'Q1'],\n ['Q0', '1', 'Q2'],\n ['Q1', '0', 'Q1'],\n ['Q1', '1', 'Q2'],\n ['Q2', '0', 'Q2'],\n ['Q2', '1', 'Q1']]\nestados,  ['Q0', 'Q1', 'Q2']\nef,  ['Q2']\nei,  Q0\n",
          "name": "stdout"
        },
        {
          "output_type": "execute_result",
          "execution_count": 45,
          "data": {
            "text/plain": "'\\nself = self.afnToAfd()\\n        self.removeEstadosInalcancaveis()\\n        self.convertAfdToFpt()'"
          },
          "metadata": {}
        }
      ]
    },
    {
      "metadata": {
        "trusted": true
      },
      "cell_type": "code",
      "source": "listaMaiorTamanho([\n    [2,4,5],\n    [2,4,5,6,7,8],\n    [2,4,5,6,7,8,9,9],\n    [2,4],\n    [2,4,5,1,2]\n])",
      "execution_count": 7,
      "outputs": [
        {
          "output_type": "execute_result",
          "execution_count": 7,
          "data": {
            "text/plain": "[2, 4, 5, 6, 7, 8, 9, 9]"
          },
          "metadata": {}
        }
      ]
    },
    {
      "metadata": {
        "trusted": true
      },
      "cell_type": "code",
      "source": "#teste afm\n\n\nimport pprint\naf2 = Automato()\naf2.alfabeto = ['a', 'b']\n#af2.estados = ['q0', 'q1', 'q2', 'q3', 'q4', 'q5']\naf2.estados = ['q0', 'q1', 'q2', 'q3', 'q4', 'q5']\naf2.estadoInicial = 'q0'\naf2.estadosFinais = ['q0', 'q4', 'q5']\naf2.fPrograma = [['q0', 'a', 'q2'],\n                 ['q0', 'b', 'q1'],\n                 ['q1', 'a', 'q1'],\n                 ['q1', 'b', 'q0'],\n                 ['q2', 'a', 'q4'],\n                 ['q2', 'b', 'q5'],\n                 ['q3', 'a', 'q5'],\n                 ['q3', 'b', 'q4'],\n                 ['q4', 'a', 'q3'],\n                 ['q4', 'b', 'q2'],\n                 ['q5', 'a', 'q2'],\n                 ['q5', 'b', 'q3']]\n\npprint.pprint(af2.fPrograma)\naf3 = af2.automatoMinimo()\nprint(af3.estados)\npprint.pprint(af2.fPrograma)\n\n\n\n#for s in af2.fPrograma:\n#    print(s)\n\n#af2.automatoMinimo()    \n#af2.estados\n#print(af2.estados)\n#print(af2.fPrograma)",
      "execution_count": 8,
      "outputs": [
        {
          "output_type": "stream",
          "text": "[['q0', 'a', 'q2'],\n ['q0', 'b', 'q1'],\n ['q1', 'a', 'q1'],\n ['q1', 'b', 'q0'],\n ['q2', 'a', 'q4'],\n ['q2', 'b', 'q5'],\n ['q3', 'a', 'q5'],\n ['q3', 'b', 'q4'],\n ['q4', 'a', 'q3'],\n ['q4', 'b', 'q2'],\n ['q5', 'a', 'q2'],\n ['q5', 'b', 'q3']]\n",
          "name": "stdout"
        },
        {
          "output_type": "error",
          "ename": "AttributeError",
          "evalue": "'Automato' object has no attribute 'automatoMinimo'",
          "traceback": [
            "\u001b[0;31m---------------------------------------------------------------------------\u001b[0m",
            "\u001b[0;31mAttributeError\u001b[0m                            Traceback (most recent call last)",
            "\u001b[0;32m<ipython-input-8-e31a96c43f80>\u001b[0m in \u001b[0;36m<module>\u001b[0;34m()\u001b[0m\n\u001b[1;32m     23\u001b[0m \u001b[0;34m\u001b[0m\u001b[0m\n\u001b[1;32m     24\u001b[0m \u001b[0mpprint\u001b[0m\u001b[0;34m.\u001b[0m\u001b[0mpprint\u001b[0m\u001b[0;34m(\u001b[0m\u001b[0maf2\u001b[0m\u001b[0;34m.\u001b[0m\u001b[0mfPrograma\u001b[0m\u001b[0;34m)\u001b[0m\u001b[0;34m\u001b[0m\u001b[0m\n\u001b[0;32m---> 25\u001b[0;31m \u001b[0maf3\u001b[0m \u001b[0;34m=\u001b[0m \u001b[0maf2\u001b[0m\u001b[0;34m.\u001b[0m\u001b[0mautomatoMinimo\u001b[0m\u001b[0;34m(\u001b[0m\u001b[0;34m)\u001b[0m\u001b[0;34m\u001b[0m\u001b[0m\n\u001b[0m\u001b[1;32m     26\u001b[0m \u001b[0mprint\u001b[0m\u001b[0;34m(\u001b[0m\u001b[0maf3\u001b[0m\u001b[0;34m.\u001b[0m\u001b[0mestados\u001b[0m\u001b[0;34m)\u001b[0m\u001b[0;34m\u001b[0m\u001b[0m\n\u001b[1;32m     27\u001b[0m \u001b[0mpprint\u001b[0m\u001b[0;34m.\u001b[0m\u001b[0mpprint\u001b[0m\u001b[0;34m(\u001b[0m\u001b[0maf2\u001b[0m\u001b[0;34m.\u001b[0m\u001b[0mfPrograma\u001b[0m\u001b[0;34m)\u001b[0m\u001b[0;34m\u001b[0m\u001b[0m\n",
            "\u001b[0;31mAttributeError\u001b[0m: 'Automato' object has no attribute 'automatoMinimo'"
          ]
        }
      ]
    },
    {
      "metadata": {
        "trusted": true
      },
      "cell_type": "code",
      "source": "",
      "execution_count": null,
      "outputs": []
    },
    {
      "metadata": {
        "trusted": true
      },
      "cell_type": "code",
      "source": "#teste alcancavel\n\nimport pprint\naf2 = Automato()\naf2.alfabeto = ['a', 'b']\n#af2.estados = ['q0', 'q1', 'q2', 'q3', 'q4', 'q5']\naf2.estados = ['q0', 'q1', 'q2', 'q3', 'q4', 'q5', 'q6', 'q7']\naf2.estadoInicial = 'q0'\naf2.estadosFinais = ['q0', 'q4', 'q5']\naf2.fPrograma = [['q0', 'a', 'q2'],\n                 ['q0', 'b', 'q1'],\n                 #['q1', 'a', 'q1'],\n                 ['q1', 'a', 'q1'],\n                 ['q1', 'b', 'q0'],\n                 ['q2', 'a', 'q4'],\n                 ['q2', 'b', 'q5'],\n                 ['q3', 'a', 'q5'],\n                 ['q3', 'b', 'q4'],\n                 ['q4', 'a', 'q3'],\n                 ['q4', 'b', 'q2'],\n                 ['q5', 'a', 'q2'],\n                 ['q5', 'b', 'q3'],\n                 ['q6', 'a', 'q6'],\n                 ['q6', 'b', 'q6'],\n                 ['q7', 'b', 'q3']\n                ]\n'''print(af2.estadosAlcancaveis('q0'))\nprint(\"\\n\", end='')\npprint.pprint(af2.fPrograma)\nprint(\"\\n\", end='')\naf2.removeEstadosInalcancaveis()\npprint.pprint(af2.fPrograma)'''\n\naf2.convertAfdToFpt()\npprint.pprint(af2.fPrograma)\n\n\n\n\n\n#af2.estadosAtingiveis('q0')\n\n#af2.removeEstadosInatingiveis()\n\n#print(af2.fPrograma)\n\n#af2.convertAfdToFpt()\n\n#for s in af2.fPrograma:\n#    print(s)\n\n#af2.automatoMinimo()    \n#af2.estados\n#print(af2.estados)\n#print(af2.fPrograma)",
      "execution_count": null,
      "outputs": []
    },
    {
      "metadata": {
        "trusted": true
      },
      "cell_type": "code",
      "source": "af2 = Automato()\naf2.alfabeto = ['0', '1']\naf2.estados = ['A', 'B', 'C']\naf2.estadoInicial = 'A'\naf2.estadosFinais = ['C']\naf2.fPrograma = [['A', '0', 'A'],\n                 ['A', '0', 'B'],\n                 ['A', '1', 'A'],\n                 ['B', '0', 'C']\n                ]\naf3 = af2.afnToAfd()\nprint(\"fprograma:\")\n#for k in af3.fPrograma:\n#            print(k)            \npprint.pprint(af3.fPrograma)\nprint(\"est finais: \",af3.estadosFinais)\nprint(\"estados: \", af3.estados)\nprint(\"alfabeto: \", af3.alfabeto)\nprint(\"estado inicial: \", af3.estadoInicial)",
      "execution_count": null,
      "outputs": []
    },
    {
      "metadata": {
        "trusted": true
      },
      "cell_type": "code",
      "source": "### TESTES ###\n#af = txtToAutomato('teste.txt')\naf2 = Automato()\naf2.alfabeto = ['a', 'b']\naf2.estados = ['q0', 'q1', 'q2', 'q3', 'q4', 'q5', 'q6', 'q7']\naf2.estadoInicial = 'q0'\naf2.estadosFinais = ['q2']\naf2.fPrograma = [['q0', 'a', 'q1'],\n                 ['q0', 'b', 'q5'],\n                 ['q1', 'a', 'q6'],\n                 ['q1', 'b', 'q2'],\n                 ['q2', 'a', 'q0'],\n                 ['q2', 'b', 'q2'],\n                 ['q3', 'a', 'q2'],\n                 ['q4', 'a', 'q7'],\n                 ['q4', 'b', 'q5'],\n                 ['q5', 'a', 'q2'],\n                 ['q5', 'b', 'q6'],\n                 ['q6', 'b', 'q4'],\n                 ['q7', 'a', 'q6'],\n                 ['q7', 'b', 'q2']\n                ]\n\naf3 = af2.afnToAfd()\n#print(af3.estados)\n#af3.convertAfdToFpt()\n\nfor k in af3.fPrograma:\n    print(k) \n#print(af3.estados)\n    \n#af2.automatoMinimo()\n",
      "execution_count": null,
      "outputs": []
    },
    {
      "metadata": {
        "trusted": true
      },
      "cell_type": "code",
      "source": "def Remove(duplicate): \n    final_list = [] \n    for num in duplicate: \n        if num not in final_list: \n            final_list.append(num) \n    return final_list \n      \n# Driver Code \nduplicate = ['a', 'b', 'q0', 'a', 'q0', 'q1'] \nprint(Remove(duplicate)) \n",
      "execution_count": null,
      "outputs": []
    },
    {
      "metadata": {
        "trusted": true
      },
      "cell_type": "code",
      "source": "x = [['a', 'l', 'o']]\nx.append(['', '', 't'])\nprint(x[1][2])\nprint(x)",
      "execution_count": null,
      "outputs": []
    },
    {
      "metadata": {
        "trusted": true
      },
      "cell_type": "code",
      "source": "x = [['q0', 'a', 'q1'],\n ['q0', 'b', 'q5'],\n ['q1', 'a', 'q6'],\n ['q1', 'b', 'q2'],\n ['q2', 'a', 'q0'],\n ['q2', 'b', 'q2']\n]\n\nx.insert(2, [\"TESTE!\", '', ''])\nfor s in x:\n    print(s)",
      "execution_count": null,
      "outputs": []
    },
    {
      "metadata": {
        "trusted": true
      },
      "cell_type": "code",
      "source": "x = ['AB', 'A', 'ABC']\nx.sort()\nprint(x)",
      "execution_count": null,
      "outputs": []
    },
    {
      "metadata": {
        "trusted": true
      },
      "cell_type": "code",
      "source": "['q1', 0   , 0   , 0   , 0],\n['q2', 0   , 0   , 0   , 0], \n['q3', True, 0   , 0   , 0], \n['d' , 0   , True, 0   , 0], \n[0   , 'q0', 'q1', 'q2', 'q3']",
      "execution_count": null,
      "outputs": []
    },
    {
      "metadata": {
        "trusted": true
      },
      "cell_type": "code",
      "source": "#outFilename = input(\"Insira o nome do arquivo: \")\noutFilename = \"testeGr\"\noutFile = open(outFilename+'.txt', 'w')\naf.geraGR(outFile)\noutFile.close()",
      "execution_count": null,
      "outputs": []
    },
    {
      "metadata": {
        "trusted": true,
        "scrolled": false
      },
      "cell_type": "code",
      "source": "#TESTES\naf = txtToAutomato('teste.txt')\nprint(af.alfabeto)\nprint(af.estados)\nprint(af.estadoInicial)\nprint(af.estadosFinais)\nprint(af.fPrograma)\nprint(\"\\n\")\nprint(af.funcaoPrograma('q2','a'))\nprint(af.funcaoPrograma('q1','a'))\nprint(af.funcaoPrograma('q0','a'))\nprint(\"\\n\")\nprint('True') if af.isFinal('q3') else print('False')\nprint(\"\\n\")\nwordList = []\n\nwordList.append(\"b\")\nwordList.append(\"a\")\nwordList.append(\"ba\")\nwordList.append(\"aa\")\nwordList.append(\"bab\")\nwordList.append(\"baba\")\nres = af.verificaPalavras(wordList)\nprint(*wordList)\nprint(\"Aceitas: \", *res['aceitas'])\nprint(\"Rejeitadas:\", *res['rejeitadas'])\nprint(\"\\n\")",
      "execution_count": null,
      "outputs": []
    },
    {
      "metadata": {
        "trusted": true
      },
      "cell_type": "code",
      "source": "##ARQUIVO TESTE\nAUTÔMATO=({q0,q1,q2,q3},{a,b},q0,{q1,q3})\nProg\n(q0,a)=q1\n(q0,b)=q2\n(q1,b)=q2\n(q2,a)=q3\n(q2,a)=q2\n(q3,a)=q3\n(q3,b)=q2\n",
      "execution_count": null,
      "outputs": []
    },
    {
      "metadata": {
        "trusted": true
      },
      "cell_type": "code",
      "source": "teste = {}\nteste['t1'] = 1\nteste['t2'] = 2\nteste['t3'] = 3\nteste['t4'] = 4\n\n#print(teste['t4'])\n\nprint('true') if teste.get('t5') != None else print('false')",
      "execution_count": null,
      "outputs": []
    },
    {
      "metadata": {
        "trusted": true
      },
      "cell_type": "code",
      "source": "x = re.findall('{.+}', '({q0,q1,q2,q3},{a,b},q0,{q1,q3})')\nprint(x)",
      "execution_count": null,
      "outputs": []
    },
    {
      "metadata": {
        "trusted": true
      },
      "cell_type": "code",
      "source": "#print(\"t\", end='')\n#print(\"e\", end='')\n\npile = []\npile.append(['t','e'])\npile.pop()\nprint(\"vazia\") if not pile else print(\"nao vazia\")",
      "execution_count": null,
      "outputs": []
    },
    {
      "metadata": {
        "trusted": true
      },
      "cell_type": "code",
      "source": "file = open('teste.txt', 'r')\ncontent = file.readlines()\nfile.close()\nx = re.split(\"=\", content[0])\nk = re.findall('({[A-Za-z0-9,]+})',x[1])\n\nk = re.findall('(},[A-Za-z0-9]+,{)', x[1])\nk = re.findall('([A-Za-z0-9]+)', k[0])\nprint(k)",
      "execution_count": null,
      "outputs": []
    },
    {
      "metadata": {
        "trusted": true
      },
      "cell_type": "code",
      "source": "import re\nx = []\n\nx = re.split(',','{q0,q1,q2,q3}')\nprint(x)",
      "execution_count": null,
      "outputs": []
    },
    {
      "metadata": {
        "trusted": true
      },
      "cell_type": "code",
      "source": "re.findall('[A-Za-z0-9]+','{q0a,q1,q2,q3}')",
      "execution_count": null,
      "outputs": []
    },
    {
      "metadata": {
        "trusted": true
      },
      "cell_type": "code",
      "source": "import re\n\n#Check if the string starts with \"The\" and ends with \"Spain\":\n\ntxt = \"AUTÔMATO=({q0,q1,q2,q3},{a,b},q0,{q1,q3})\"\ntxt2 = \"({q0,q1,q2,q3},{a,b},q0,{q1,q3})\"\nx = re.split(\"=\", txt)\n\nprint(x)\nprint(txt)\n\ny = re.findall('([A-Za-z]+)', 'tes22te')\n\n#y = re.split(\"({[A-Z0-9]+})\", y[0]) #{q0,q1,q2,q3},{a,b},q0,{q1,q3}\nprint(y)\n",
      "execution_count": null,
      "outputs": []
    }
  ],
  "metadata": {
    "kernelspec": {
      "name": "python3",
      "display_name": "Python 3",
      "language": "python"
    },
    "language_info": {
      "mimetype": "text/x-python",
      "nbconvert_exporter": "python",
      "name": "python",
      "pygments_lexer": "ipython3",
      "version": "3.5.4",
      "file_extension": ".py",
      "codemirror_mode": {
        "version": 3,
        "name": "ipython"
      }
    }
  },
  "nbformat": 4,
  "nbformat_minor": 2
}