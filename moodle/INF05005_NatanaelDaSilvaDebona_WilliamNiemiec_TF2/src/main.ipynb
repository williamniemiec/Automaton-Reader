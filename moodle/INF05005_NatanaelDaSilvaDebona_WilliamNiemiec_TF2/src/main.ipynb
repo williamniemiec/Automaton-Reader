{
  "cells": [
    {
      "metadata": {
        "trusted": true
      },
      "cell_type": "code",
      "source": "import os\nimport sys\nimport subprocess\n\n!pip install pyinstaller\nsubprocess.call([sys.executable, \"pyinstaller\", \"-onefile\", \"-windowed\", \"main.py\"])\n\n#pyinstaller nome_do_software.py\n#pyinstaller –onefile –windowed meuArquivoPrincipal.py",
      "execution_count": 5,
      "outputs": [
        {
          "output_type": "stream",
          "text": "Requirement already satisfied: pyinstaller in /home/nbuser/anaconda3_501/lib/python3.6/site-packages (3.5)\nRequirement already satisfied: setuptools in /home/nbuser/anaconda3_501/lib/python3.6/site-packages (from pyinstaller) (41.6.0)\nRequirement already satisfied: altgraph in /home/nbuser/anaconda3_501/lib/python3.6/site-packages (from pyinstaller) (0.16.1)\n",
          "name": "stdout"
        },
        {
          "output_type": "execute_result",
          "execution_count": 5,
          "data": {
            "text/plain": "2"
          },
          "metadata": {}
        }
      ]
    },
    {
      "metadata": {
        "trusted": true
      },
      "cell_type": "code",
      "source": "#==========================================================================\n#                             AUTÔMATO - TESTES\n#==========================================================================\n#--------------------------------------------------------------------------\n#    IMPORTS\n#--------------------------------------------------------------------------\nimport sys\nsys.path.append(\"src/\")\nfrom Automato import *\n\n\n#--------------------------------------------------------------------------\n#    MAIN\n#--------------------------------------------------------------------------\nsair = False\ninit = False\n\naf = Automato()\n\nwhile not sair:\n    printHeader(\"Escolha uma opção\")\n    print(\"1: Abrir autômato\")\n    if init:\n        print(\"2: Exibir autômato\")\n        print(\"3: Palavras aceitas e rejeitadas\")\n        print(\"4: Gerar gramática equivalente\")\n        print(\"5: Converter em autômato mínimo\")\n        print(\"6: Verificar equivalência com outro autômato\")\n    print(\"0: Sair\\n\")\n    \n    printDiv()\n    op = input(\"Opção: \")\n    printDiv()\n    if op == '1':\n        printHeader('Abrir autômato')\n        desistir = False\n        filename = input(\"Insira o nome do arquivo: \")\n        out = af.txtToAutomato(filename)\n        \n        while out == None and desistir == False:\n            print(\"Erro: Arquivo não encontrado\")\n            filename = input(\"Insira o nome do arquivo (ou '0' para sair): \")\n            if filename == '0':\n                desistir = True\n            else:\n                out = af.txtToAutomato(filename)\n        \n        if not desistir:\n            init = True\n    elif init:\n        if op == '2':\n            af.printAutomato()\n            wait()\n        elif op == '3':\n            printHeader('Palavras aceitas e rejeitadas')\n            desistir = False\n            filename = input(\"Insira o nome do arquivo de palavras: \")\n            wordList = csvToWordList(filename)\n\n            while wordList == None and desistir == False:\n                print(\"Erro: Arquivo não encontrado\")\n                filename = input(\"Insira o nome do arquivo (ou '0' para sair): \")\n                if filename == '0':\n                    desistir = True\n                else:\n                    wordList = csvToWordList(filename)\n            \n            af.verificaPalavras(wordList)\n        elif op == '4':\n            printHeader('Gramática equivalente')\n            name = input(\"Insira o nome do arquivo (ou '0' para sair): \")\n            if name != '0':\n                af.geraGR(name)\n                printFileContent(name+'.txt')\n                wait()\n        elif op == '5':\n            print('Convertendo para autômato mínimo...')\n            af = af.aMin()\n            print('Conversão feita com sucesso!')\n            wait()\n        elif op == '6':\n            printHeader('Verificação de equivalência com outro autômato')\n            af_tmp = Automato()\n            desistir = False\n            \n            filename = input(\"Insira o nome do arquivo (ou '0' para sair): \")\n            out = af_tmp.txtToAutomato(filename)\n            \n            while out == None and desistir == False:\n                print(\"Erro: Arquivo não encontrado\")\n                filename = input(\"Insira o nome do arquivo (ou '0' para sair): \")\n                if filename == '0':\n                    desistir = True\n                else:\n                    out = af_tmp.txtToAutomato(filename)\n\n            if not desistir:\n                out = af.verificaEquivalencia(af_tmp)\n                if out == True:\n                    print(\"Os autômatos %s e %s são equivalentes!\" % (af.nome, af_tmp.nome))\n                else:\n                    print(\"Os autômatos %s e %s não são equivalentes!\" % (af.nome, af_tmp.nome))\n                af_tmp.destroi()\n                wait()\n    if op == '0':\n        sair = True\nif init:\n    af.destroi()\n",
      "execution_count": 2,
      "outputs": [
        {
          "output_type": "stream",
          "text": "====================================================================================\n\tEscolha uma opção\n====================================================================================\n1: Abrir autômato\n0: Sair\n\n------------------------------------------------------------------------------------\nOpção: 1\n------------------------------------------------------------------------------------\n====================================================================================\n\tAbrir autômato\n====================================================================================\nInsira o nome do arquivo: midia/eq1.txt\n====================================================================================\n\tEscolha uma opção\n====================================================================================\n1: Abrir autômato\n2: Exibir autômato\n3: Palavras aceitas e rejeitadas\n4: Gerar gramática equivalente\n5: Converter em autômato mínimo\n6: Verificar equivalência com outro autômato\n0: Sair\n\n------------------------------------------------------------------------------------\nOpção: 5\n------------------------------------------------------------------------------------\nConvertendo para autômato mínimo...\nConversão feita com sucesso!\nTecle enter para continuar . . .\n====================================================================================\n\tEscolha uma opção\n====================================================================================\n1: Abrir autômato\n2: Exibir autômato\n3: Palavras aceitas e rejeitadas\n4: Gerar gramática equivalente\n5: Converter em autômato mínimo\n6: Verificar equivalência com outro autômato\n0: Sair\n\n------------------------------------------------------------------------------------\nOpção: 5\n------------------------------------------------------------------------------------\nConvertendo para autômato mínimo...\nConversão feita com sucesso!\nTecle enter para continuar . . .\n====================================================================================\n\tEscolha uma opção\n====================================================================================\n1: Abrir autômato\n2: Exibir autômato\n3: Palavras aceitas e rejeitadas\n4: Gerar gramática equivalente\n5: Converter em autômato mínimo\n6: Verificar equivalência com outro autômato\n0: Sair\n\n------------------------------------------------------------------------------------\nOpção: 2\n------------------------------------------------------------------------------------\n====================================================================================\n\tAutômato EQ1\n====================================================================================\nAlfabeto:  ['0', '1']\nEstados:  ['q0_q1']\nEstado inicial:  q0_q1\nEstados finais:  ['q2']\nFunção programa:\n[['q0_q1', '0', 'q0_q1'],\n ['q0_q1', '1', 'q2'],\n ['q2', '0', 'q2'],\n ['q2', '1', 'q0_q1']]\n------------------------------------------------------------------------------------\nTecle enter para continuar . . .\n====================================================================================\n\tEscolha uma opção\n====================================================================================\n1: Abrir autômato\n2: Exibir autômato\n3: Palavras aceitas e rejeitadas\n4: Gerar gramática equivalente\n5: Converter em autômato mínimo\n6: Verificar equivalência com outro autômato\n0: Sair\n\n------------------------------------------------------------------------------------\nOpção: 5\n------------------------------------------------------------------------------------\nConvertendo para autômato mínimo...\nConversão feita com sucesso!\nTecle enter para continuar . . .\n====================================================================================\n\tEscolha uma opção\n====================================================================================\n1: Abrir autômato\n2: Exibir autômato\n3: Palavras aceitas e rejeitadas\n4: Gerar gramática equivalente\n5: Converter em autômato mínimo\n6: Verificar equivalência com outro autômato\n0: Sair\n\n------------------------------------------------------------------------------------\nOpção: 2\n------------------------------------------------------------------------------------\n====================================================================================\n\tAutômato EQ1\n====================================================================================\nAlfabeto:  ['0', '1']\nEstados:  ['q0_q1']\nEstado inicial:  q0_q1\nEstados finais:  ['q2']\nFunção programa:\n[['q0_q1', '0', 'q0_q1'],\n ['q0_q1', '1', 'q2'],\n ['q2', '0', 'q2'],\n ['q2', '1', 'q0_q1']]\n------------------------------------------------------------------------------------\nTecle enter para continuar . . .\n====================================================================================\n\tEscolha uma opção\n====================================================================================\n1: Abrir autômato\n2: Exibir autômato\n3: Palavras aceitas e rejeitadas\n4: Gerar gramática equivalente\n5: Converter em autômato mínimo\n6: Verificar equivalência com outro autômato\n0: Sair\n\n------------------------------------------------------------------------------------\nOpção: 6\n------------------------------------------------------------------------------------\n====================================================================================\n\tVerificação de equivalência com outro autômato\n====================================================================================\nInsira o nome do arquivo (ou '0' para sair): midia/eq2.txt\nOs autômatos EQ1 e EQ2 são equivalentes!\nTecle enter para continuar . . .\n====================================================================================\n\tEscolha uma opção\n====================================================================================\n1: Abrir autômato\n2: Exibir autômato\n3: Palavras aceitas e rejeitadas\n4: Gerar gramática equivalente\n5: Converter em autômato mínimo\n6: Verificar equivalência com outro autômato\n0: Sair\n\n------------------------------------------------------------------------------------\nOpção: 0\n------------------------------------------------------------------------------------\n",
          "name": "stdout"
        },
        {
          "output_type": "execute_result",
          "execution_count": 2,
          "data": {
            "text/plain": "\"\\nprintHeader('Teste autômato mínimo com mesmo exemplo do ppt de minimização')\\naf2 = Automato()\\naf2.alfabeto = ['a', 'b']\\naf2.estados = ['q0', 'q1', 'q2', 'q3', 'q4', 'q5']\\naf2.estadoInicial = 'q0'\\naf2.estadosFinais = ['q0', 'q4', 'q5']\\naf2.fPrograma = [['q0', 'a', 'q2'],\\n                 ['q0', 'b', 'q1'],\\n                 ['q1', 'a', 'q1'],\\n                 ['q1', 'b', 'q0'],\\n                 ['q2', 'a', 'q4'],\\n                 ['q2', 'b', 'q5'],\\n                 ['q3', 'a', 'q5'],\\n                 ['q3', 'b', 'q4'],\\n                 ['q4', 'a', 'q3'],\\n                 ['q4', 'b', 'q2'],\\n                 ['q5', 'a', 'q2'],\\n                 ['q5', 'b', 'q3']]\\nt = af2.aMin()\\nt.nome = 'ppt minimização'\\nt.printAutomato()\\n\\n\\ninput('Tecle enter para continuar . . . ')\\n\""
          },
          "metadata": {}
        }
      ]
    },
    {
      "metadata": {
        "trusted": true
      },
      "cell_type": "code",
      "source": "",
      "execution_count": null,
      "outputs": []
    },
    {
      "metadata": {
        "trusted": true
      },
      "cell_type": "code",
      "source": "",
      "execution_count": null,
      "outputs": []
    }
  ],
  "metadata": {
    "kernelspec": {
      "name": "python36",
      "display_name": "Python 3.6",
      "language": "python"
    },
    "language_info": {
      "mimetype": "text/x-python",
      "nbconvert_exporter": "python",
      "name": "python",
      "pygments_lexer": "ipython3",
      "version": "3.6.6",
      "file_extension": ".py",
      "codemirror_mode": {
        "version": 3,
        "name": "ipython"
      }
    }
  },
  "nbformat": 4,
  "nbformat_minor": 2
}